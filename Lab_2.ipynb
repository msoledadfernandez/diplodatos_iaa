{
 "cells": [
  {
   "cell_type": "markdown",
   "metadata": {},
   "source": [
    "<center>\n",
    "<h4>Universidad Nacional de Córdoba - Facultad de Matemática, Astronomía, Física y Computación</h4>\n",
    "<h3>Diplomatura en Ciencia de Datos, Aprendizaje Automático y sus Aplicaciones</h3>\n",
    "</center>"
   ]
  },
  {
   "cell_type": "markdown",
   "metadata": {},
   "source": [
    "<h1> Introducción al Aprendizaje Automático -> Grupo 10 Cohorte 2</h1>\n",
    "\n",
    "Rodrigo Bertoya\n",
    "\n",
    "Agustin Mauras Velez \n",
    "\n",
    "Gabriel Moyano\n",
    "\n",
    "Marcelo Tisera\n",
    "\n",
    "Silvia Pierotti\n",
    "\n",
    "Fernandez María Soledad   "
   ]
  },
  {
   "cell_type": "markdown",
   "metadata": {},
   "source": [
    "# Laboratorio 2: Armado de un esquema de aprendizaje automático\n",
    "\n",
    "En el laboratorio final se espera que puedan poner en práctica los conocimientos adquiridos en el curso, trabajando con un conjunto de datos de clasificación.\n",
    "\n",
    "El objetivo es que se introduzcan en el desarrollo de un esquema para hacer tareas de aprendizaje automático: selección de un modelo, ajuste de hiperparámetros y evaluación.\n",
    "\n",
    "El conjunto de datos a utilizar está en `./data/loan_data.csv`. Si abren el archivo verán que al principio (las líneas que empiezan con `#`) describen el conjunto de datos y sus atributos (incluyendo el atributo de etiqueta o clase).\n",
    "\n",
    "Se espera que hagan uso de las herramientas vistas en el curso. Se espera que hagan uso especialmente de las herramientas brindadas por `scikit-learn`."
   ]
  },
  {
   "cell_type": "code",
   "execution_count": 1,
   "metadata": {},
   "outputs": [],
   "source": [
    "import numpy as np\n",
    "import pandas as pd\n",
    "import warnings\n",
    "import matplotlib.pyplot as plt\n",
    "\n",
    "from sklearn.model_selection import train_test_split\n",
    "from sklearn.linear_model import SGDClassifier\n",
    "from sklearn.tree import DecisionTreeClassifier\n",
    "from sklearn.metrics import accuracy_score\n",
    "from sklearn.metrics import precision_score\n",
    "from sklearn.metrics import recall_score\n",
    "from sklearn.metrics import f1_score\n",
    "from sklearn.metrics import confusion_matrix\n",
    "from sklearn.model_selection import GridSearchCV\n",
    "from sklearn.tree import plot_tree\n",
    "from sklearn.pipeline import make_pipeline\n",
    "from sklearn.preprocessing import StandardScaler\n",
    "from scipy import stats"
   ]
  },
  {
   "cell_type": "code",
   "execution_count": 2,
   "metadata": {},
   "outputs": [],
   "source": [
    "# fijo semillas aleatorias para SGDClassifier y para DecisionTreeClassifier\n",
    "ranstate = 1"
   ]
  },
  {
   "cell_type": "code",
   "execution_count": 3,
   "metadata": {},
   "outputs": [],
   "source": [
    "# defino función para calcular los scores\n",
    "def all_scores(y_train,y_test,y_train_pred,y_test_pred):\n",
    "    sol=np.zeros((8,1))\n",
    "\n",
    "    sol[0] = accuracy_score(y_train, y_train_pred)\n",
    "    sol[1] = accuracy_score(y_test, y_test_pred)\n",
    "    sol[2] = precision_score(y_train, y_train_pred, zero_division=0)\n",
    "    sol[3] = precision_score(y_test, y_test_pred, zero_division=0)\n",
    "    sol[4] = recall_score(y_train, y_train_pred, zero_division=0)\n",
    "    sol[5] = recall_score(y_test, y_test_pred, zero_division=0)\n",
    "    sol[6] = f1_score(y_train, y_train_pred)\n",
    "    sol[7] = f1_score(y_test, y_test_pred)\n",
    "\n",
    "    df = pd.DataFrame(sol, index=['ACCURACY_TRAIN','ACCURACY_TEST','PRECISION_TRAIN','PRECISION_TEST','RECALL_TRAIN','RECALL_TEST','F1_TRAIN','F1_TEST'])\n",
    "    df.columns = ['Score']\n",
    "    \n",
    "    return df"
   ]
  },
  {
   "cell_type": "code",
   "execution_count": 4,
   "metadata": {},
   "outputs": [],
   "source": [
    "def all_scores_vs(y_train,y_test,y_train_pred,y_test_pred,y_train_pred_bestpar,y_test_pred_bestpar):\n",
    "    df1 = all_scores(y_train,y_test,y_train_pred_bestpar,y_test_pred_bestpar)\n",
    "    df2 = all_scores(y_train,y_test,y_train_pred,y_test_pred)\n",
    "    df = pd.concat([df1, df2], axis=1)\n",
    "    df.columns = ['ScoreBestPar','ScoreDefault']\n",
    "    return df"
   ]
  },
  {
   "cell_type": "markdown",
   "metadata": {},
   "source": [
    "## Carga de datos y división en entrenamiento y evaluación\n",
    "\n",
    "La celda siguiente se encarga de la carga de datos (haciendo uso de pandas). Estos serán los que se trabajarán en el resto del laboratorio."
   ]
  },
  {
   "cell_type": "code",
   "execution_count": 5,
   "metadata": {},
   "outputs": [],
   "source": [
    "dataset = pd.read_csv(\"./data/loan_data.csv\", comment=\"#\")"
   ]
  },
  {
   "cell_type": "code",
   "execution_count": 6,
   "metadata": {},
   "outputs": [
    {
     "data": {
      "text/html": [
       "<div>\n",
       "<style scoped>\n",
       "    .dataframe tbody tr th:only-of-type {\n",
       "        vertical-align: middle;\n",
       "    }\n",
       "\n",
       "    .dataframe tbody tr th {\n",
       "        vertical-align: top;\n",
       "    }\n",
       "\n",
       "    .dataframe thead th {\n",
       "        text-align: right;\n",
       "    }\n",
       "</style>\n",
       "<table border=\"1\" class=\"dataframe\">\n",
       "  <thead>\n",
       "    <tr style=\"text-align: right;\">\n",
       "      <th></th>\n",
       "      <th>TARGET</th>\n",
       "      <th>LOAN</th>\n",
       "      <th>MORTDUE</th>\n",
       "      <th>VALUE</th>\n",
       "      <th>YOJ</th>\n",
       "      <th>DEROG</th>\n",
       "      <th>DELINQ</th>\n",
       "      <th>CLAGE</th>\n",
       "      <th>NINQ</th>\n",
       "      <th>CLNO</th>\n",
       "      <th>DEBTINC</th>\n",
       "    </tr>\n",
       "  </thead>\n",
       "  <tbody>\n",
       "    <tr>\n",
       "      <th>0</th>\n",
       "      <td>0</td>\n",
       "      <td>4700</td>\n",
       "      <td>88026.0</td>\n",
       "      <td>115506.0</td>\n",
       "      <td>6.0</td>\n",
       "      <td>0.0</td>\n",
       "      <td>0.0</td>\n",
       "      <td>182.248332</td>\n",
       "      <td>0.0</td>\n",
       "      <td>27.0</td>\n",
       "      <td>29.209023</td>\n",
       "    </tr>\n",
       "    <tr>\n",
       "      <th>1</th>\n",
       "      <td>0</td>\n",
       "      <td>19300</td>\n",
       "      <td>39926.0</td>\n",
       "      <td>101208.0</td>\n",
       "      <td>4.0</td>\n",
       "      <td>0.0</td>\n",
       "      <td>0.0</td>\n",
       "      <td>140.051638</td>\n",
       "      <td>0.0</td>\n",
       "      <td>14.0</td>\n",
       "      <td>31.545694</td>\n",
       "    </tr>\n",
       "    <tr>\n",
       "      <th>2</th>\n",
       "      <td>0</td>\n",
       "      <td>5700</td>\n",
       "      <td>71556.0</td>\n",
       "      <td>79538.0</td>\n",
       "      <td>2.0</td>\n",
       "      <td>0.0</td>\n",
       "      <td>0.0</td>\n",
       "      <td>92.643085</td>\n",
       "      <td>0.0</td>\n",
       "      <td>15.0</td>\n",
       "      <td>41.210012</td>\n",
       "    </tr>\n",
       "    <tr>\n",
       "      <th>3</th>\n",
       "      <td>0</td>\n",
       "      <td>13000</td>\n",
       "      <td>44875.0</td>\n",
       "      <td>57713.0</td>\n",
       "      <td>0.0</td>\n",
       "      <td>1.0</td>\n",
       "      <td>0.0</td>\n",
       "      <td>184.990324</td>\n",
       "      <td>1.0</td>\n",
       "      <td>12.0</td>\n",
       "      <td>28.602076</td>\n",
       "    </tr>\n",
       "    <tr>\n",
       "      <th>4</th>\n",
       "      <td>0</td>\n",
       "      <td>19300</td>\n",
       "      <td>72752.0</td>\n",
       "      <td>106084.0</td>\n",
       "      <td>11.0</td>\n",
       "      <td>0.0</td>\n",
       "      <td>0.0</td>\n",
       "      <td>193.707100</td>\n",
       "      <td>1.0</td>\n",
       "      <td>13.0</td>\n",
       "      <td>30.686106</td>\n",
       "    </tr>\n",
       "    <tr>\n",
       "      <th>...</th>\n",
       "      <td>...</td>\n",
       "      <td>...</td>\n",
       "      <td>...</td>\n",
       "      <td>...</td>\n",
       "      <td>...</td>\n",
       "      <td>...</td>\n",
       "      <td>...</td>\n",
       "      <td>...</td>\n",
       "      <td>...</td>\n",
       "      <td>...</td>\n",
       "      <td>...</td>\n",
       "    </tr>\n",
       "    <tr>\n",
       "      <th>1849</th>\n",
       "      <td>1</td>\n",
       "      <td>53400</td>\n",
       "      <td>228236.0</td>\n",
       "      <td>305514.0</td>\n",
       "      <td>6.0</td>\n",
       "      <td>0.0</td>\n",
       "      <td>0.0</td>\n",
       "      <td>11.148069</td>\n",
       "      <td>0.0</td>\n",
       "      <td>2.0</td>\n",
       "      <td>34.558417</td>\n",
       "    </tr>\n",
       "    <tr>\n",
       "      <th>1850</th>\n",
       "      <td>1</td>\n",
       "      <td>53600</td>\n",
       "      <td>235895.0</td>\n",
       "      <td>299772.0</td>\n",
       "      <td>5.0</td>\n",
       "      <td>0.0</td>\n",
       "      <td>0.0</td>\n",
       "      <td>112.748282</td>\n",
       "      <td>7.0</td>\n",
       "      <td>22.0</td>\n",
       "      <td>44.945929</td>\n",
       "    </tr>\n",
       "    <tr>\n",
       "      <th>1851</th>\n",
       "      <td>1</td>\n",
       "      <td>53600</td>\n",
       "      <td>208197.0</td>\n",
       "      <td>297280.0</td>\n",
       "      <td>4.0</td>\n",
       "      <td>1.0</td>\n",
       "      <td>1.0</td>\n",
       "      <td>160.485251</td>\n",
       "      <td>2.0</td>\n",
       "      <td>29.0</td>\n",
       "      <td>41.646731</td>\n",
       "    </tr>\n",
       "    <tr>\n",
       "      <th>1852</th>\n",
       "      <td>1</td>\n",
       "      <td>65500</td>\n",
       "      <td>205156.0</td>\n",
       "      <td>290239.0</td>\n",
       "      <td>2.0</td>\n",
       "      <td>0.0</td>\n",
       "      <td>0.0</td>\n",
       "      <td>98.808206</td>\n",
       "      <td>1.0</td>\n",
       "      <td>21.0</td>\n",
       "      <td>144.189001</td>\n",
       "    </tr>\n",
       "    <tr>\n",
       "      <th>1853</th>\n",
       "      <td>1</td>\n",
       "      <td>77400</td>\n",
       "      <td>87651.0</td>\n",
       "      <td>224630.0</td>\n",
       "      <td>9.0</td>\n",
       "      <td>0.0</td>\n",
       "      <td>2.0</td>\n",
       "      <td>73.469630</td>\n",
       "      <td>3.0</td>\n",
       "      <td>13.0</td>\n",
       "      <td>40.929793</td>\n",
       "    </tr>\n",
       "  </tbody>\n",
       "</table>\n",
       "<p>1854 rows × 11 columns</p>\n",
       "</div>"
      ],
      "text/plain": [
       "      TARGET   LOAN   MORTDUE     VALUE   YOJ  DEROG  DELINQ       CLAGE  \\\n",
       "0          0   4700   88026.0  115506.0   6.0    0.0     0.0  182.248332   \n",
       "1          0  19300   39926.0  101208.0   4.0    0.0     0.0  140.051638   \n",
       "2          0   5700   71556.0   79538.0   2.0    0.0     0.0   92.643085   \n",
       "3          0  13000   44875.0   57713.0   0.0    1.0     0.0  184.990324   \n",
       "4          0  19300   72752.0  106084.0  11.0    0.0     0.0  193.707100   \n",
       "...      ...    ...       ...       ...   ...    ...     ...         ...   \n",
       "1849       1  53400  228236.0  305514.0   6.0    0.0     0.0   11.148069   \n",
       "1850       1  53600  235895.0  299772.0   5.0    0.0     0.0  112.748282   \n",
       "1851       1  53600  208197.0  297280.0   4.0    1.0     1.0  160.485251   \n",
       "1852       1  65500  205156.0  290239.0   2.0    0.0     0.0   98.808206   \n",
       "1853       1  77400   87651.0  224630.0   9.0    0.0     2.0   73.469630   \n",
       "\n",
       "      NINQ  CLNO     DEBTINC  \n",
       "0      0.0  27.0   29.209023  \n",
       "1      0.0  14.0   31.545694  \n",
       "2      0.0  15.0   41.210012  \n",
       "3      1.0  12.0   28.602076  \n",
       "4      1.0  13.0   30.686106  \n",
       "...    ...   ...         ...  \n",
       "1849   0.0   2.0   34.558417  \n",
       "1850   7.0  22.0   44.945929  \n",
       "1851   2.0  29.0   41.646731  \n",
       "1852   1.0  21.0  144.189001  \n",
       "1853   3.0  13.0   40.929793  \n",
       "\n",
       "[1854 rows x 11 columns]"
      ]
     },
     "execution_count": 6,
     "metadata": {},
     "output_type": "execute_result"
    }
   ],
   "source": [
    "dataset"
   ]
  },
  {
   "cell_type": "code",
   "execution_count": 7,
   "metadata": {},
   "outputs": [],
   "source": [
    "# División entre instancias y etiquetas\n",
    "X, y = dataset.iloc[:, 1:], dataset.TARGET"
   ]
  },
  {
   "cell_type": "code",
   "execution_count": 8,
   "metadata": {},
   "outputs": [
    {
     "data": {
      "text/plain": [
       "((1854, 10), (1854,))"
      ]
     },
     "execution_count": 8,
     "metadata": {},
     "output_type": "execute_result"
    }
   ],
   "source": [
    "X.shape, y.shape"
   ]
  },
  {
   "cell_type": "code",
   "execution_count": 9,
   "metadata": {},
   "outputs": [],
   "source": [
    "# división aleatoria entre entrenamiento y evaluación, dejando 80% de los datos para entrenamiento y 20% para test\n",
    "X_train_o, X_test_o, y_train, y_test = train_test_split(X, y, test_size=0.2, random_state=0)"
   ]
  },
  {
   "cell_type": "code",
   "execution_count": 10,
   "metadata": {},
   "outputs": [],
   "source": [
    "# El Descenso de gradiente estocástico es sensible al escalado de características, por lo que es muy recomendable escalar \n",
    "# sus datos. Por ejemplo, escale cada atributo en el vector de entrada X a [0,1] o [-1, + 1], \n",
    "# o estandarícelo para que tenga media 0 y varianza 1\n",
    "scaler = StandardScaler()\n",
    "scaler.fit(X_train_o)  \n",
    "X_train = scaler.transform(X_train_o)\n",
    "X_test = scaler.transform(X_test_o)"
   ]
  },
  {
   "cell_type": "code",
   "execution_count": 11,
   "metadata": {},
   "outputs": [
    {
     "data": {
      "text/plain": [
       "((1483, 10), (1483,))"
      ]
     },
     "execution_count": 11,
     "metadata": {},
     "output_type": "execute_result"
    }
   ],
   "source": [
    "X_train.shape, y_train.shape"
   ]
  },
  {
   "cell_type": "code",
   "execution_count": 12,
   "metadata": {},
   "outputs": [
    {
     "data": {
      "text/plain": [
       "((371, 10), (371,))"
      ]
     },
     "execution_count": 12,
     "metadata": {},
     "output_type": "execute_result"
    }
   ],
   "source": [
    "X_test.shape, y_test.shape"
   ]
  },
  {
   "cell_type": "markdown",
   "metadata": {},
   "source": [
    "### Conjunto de Entrenamiento \n",
    "1483 registros\n",
    "\n",
    "### Conjunto de Test\n",
    "371 registros"
   ]
  },
  {
   "cell_type": "markdown",
   "metadata": {},
   "source": [
    "\n",
    "Documentación:\n",
    "\n",
    "- https://scikit-learn.org/stable/modules/generated/sklearn.model_selection.train_test_split.html"
   ]
  },
  {
   "cell_type": "markdown",
   "metadata": {},
   "source": [
    "## Ejercicio 1: Descripción de los Datos y la Tarea\n",
    "\n",
    "Responder las siguientes preguntas:\n",
    "\n",
    "### 1.1 ¿De qué se trata el conjunto de datos?"
   ]
  },
  {
   "cell_type": "markdown",
   "metadata": {},
   "source": [
    "### Contexto\n",
    "El departamento de crédito al consumo de un banco quiere automatizar la toma de decisiones.\n",
    "Se necesita un proceso para la aprobación de líneas de crédito con garantía hipotecaria. Para hacer esto, lo harán\n",
    "siguiendo las recomendaciones de la Ley de Igualdad de Oportunidades de Crédito para crear un\n",
    "modelo de calificación crediticia empíricamente derivado y estadísticamente sólido. El modelo\n",
    "se basará en datos recopilados de solicitantes recientes a los que se les haya otorgado crédito a través del proceso actual de suscripción de préstamos. El modelo se construirá a partir de herramientas de modelado predictivo, pero el modelo creado debe ser lo suficientemente interpretable como para proporcionar una razón para cualquier acción adversa (rechazo)."
   ]
  },
  {
   "cell_type": "markdown",
   "metadata": {},
   "source": [
    "### Contenido\n",
    "\n",
    "El conjunto de datos Home Equity (HMEQ) contiene información sobre la línea de base y el rendimiento del préstamo\n",
    "para 5,960 préstamos recientes con garantía hipotecaria. El objetivo  o TARGET (BAD) es un binario\n",
    "variable que indica si un solicitante finalmente incumplió o fue\n",
    "seriamente delincuente. Este resultado adverso ocurrió en 1.189 casos (20%). por\n",
    "cada solicitante, se registraron 12 variables de entrada."
   ]
  },
  {
   "cell_type": "markdown",
   "metadata": {},
   "source": [
    "### 1.2 ¿Cuál es la variable objetivo que hay que predecir? ¿Qué significado tiene?"
   ]
  },
  {
   "cell_type": "markdown",
   "metadata": {},
   "source": [
    "La variable objetivo a predecir es TARGET que indica si de acuerdo a las features seleccionadas hay posibilidades o no en el incumplimiento del pago de un prestamo a otorgar."
   ]
  },
  {
   "cell_type": "markdown",
   "metadata": {},
   "source": [
    "### 1.3 ¿Qué información (atributos) hay disponible para hacer la predicción?"
   ]
  },
  {
   "cell_type": "markdown",
   "metadata": {},
   "source": [
    "### Features\n",
    "\n",
    "\n",
    "- Etiqueta TARGET: 1 = cliente con inclumplimiento en el préstamo - 0 = préstamo pagado\n",
    "- LOAN Monto de la solicitud de préstamo\n",
    "- MORTDUE Monto incumplido debido a la hipoteca existente\n",
    "- VALUE Valor de la propiedad actual\n",
    "- YOJ Años en el trabajo actual\n",
    "- DEROG Número de informes peyorativos importantes\n",
    "- DELINQ Número de líneas de crédito morosas\n",
    "- CLAGE Edad de la línea comercial más antigua en meses\n",
    "- NINQ Número de líneas de crédito recientes\n",
    "- CLNO Número de líneas de crédito\n",
    "- DEBTINC Relación deuda / ingresos\n"
   ]
  },
  {
   "cell_type": "markdown",
   "metadata": {},
   "source": [
    "### 1.4 ¿Qué atributos imagina ud. que son los más determinantes para la predicción?\n",
    "\n",
    "A priori podemos decir que los atributos desde nuestro punto de vista determinantes para la predicción son:\n",
    "\n",
    "- LOAN\n",
    "- DEBTINC\n",
    "- YOJ\n",
    "- DELINQ\n",
    "\n",
    "**No hace falta escribir código para responder estas preguntas.**"
   ]
  },
  {
   "cell_type": "markdown",
   "metadata": {},
   "source": [
    "## Ejercicio 2: Predicción con Modelos Lineales\n",
    "\n",
    "En este ejercicio se entrenarán modelos lineales de clasificación para predecir la variable objetivo.\n",
    "\n",
    "Para ello, deberán utilizar la clase SGDClassifier de scikit-learn.\n",
    "\n",
    "Documentación:\n",
    "- https://scikit-learn.org/stable/modules/sgd.html\n",
    "- https://scikit-learn.org/stable/modules/generated/sklearn.linear_model.SGDClassifier.html\n"
   ]
  },
  {
   "cell_type": "markdown",
   "metadata": {},
   "source": [
    "### Ejercicio 2.1: SGDClassifier con hiperparámetros por defecto\n",
    "\n",
    "Entrenar y evaluar el clasificador SGDClassifier usando los valores por omisión de scikit-learn para todos los parámetros. Únicamente **fijar la semilla aleatoria** para hacer repetible el experimento.\n",
    "\n",
    "Evaluar sobre el conjunto de **entrenamiento** y sobre el conjunto de **evaluación**, reportando:\n",
    "- Accuracy\n",
    "- Precision\n",
    "- Recall\n",
    "- F1\n",
    "- matriz de confusión"
   ]
  },
  {
   "cell_type": "code",
   "execution_count": 13,
   "metadata": {},
   "outputs": [],
   "source": [
    "model = SGDClassifier(random_state=ranstate)"
   ]
  },
  {
   "cell_type": "code",
   "execution_count": 14,
   "metadata": {},
   "outputs": [],
   "source": [
    "model.fit(X_train, y_train)\n",
    "y_train_pred = model.predict(X_train)\n",
    "y_test_pred = model.predict(X_test)"
   ]
  },
  {
   "cell_type": "markdown",
   "metadata": {},
   "source": [
    "#### Metricas del Modelo por Defecto"
   ]
  },
  {
   "cell_type": "code",
   "execution_count": 15,
   "metadata": {},
   "outputs": [
    {
     "data": {
      "text/plain": [
       "(1285, 198)"
      ]
     },
     "execution_count": 15,
     "metadata": {},
     "output_type": "execute_result"
    }
   ],
   "source": [
    "#Entrenamiento Predicciones Correctas\n",
    "(y_train == y_train_pred).sum(), (y_train != y_train_pred).sum()"
   ]
  },
  {
   "cell_type": "code",
   "execution_count": 16,
   "metadata": {},
   "outputs": [
    {
     "data": {
      "text/plain": [
       "(321, 50)"
      ]
     },
     "execution_count": 16,
     "metadata": {},
     "output_type": "execute_result"
    }
   ],
   "source": [
    "#Test Predicciones Correctas\n",
    "(y_test == y_test_pred).sum(), (y_test != y_test_pred).sum()"
   ]
  },
  {
   "cell_type": "markdown",
   "metadata": {},
   "source": [
    "#### Precision\n",
    "\n",
    "$$Precision = \\frac{|Train \\cap Test|}{|Train|} = \\frac{TP}{TP + FP}$$"
   ]
  },
  {
   "cell_type": "markdown",
   "metadata": {},
   "source": [
    "#### Recall\n",
    "\n",
    "$$Recall = \\frac{|Train \\cap Test|}{|Test|} = \\frac{TP}{TP + FN}$$"
   ]
  },
  {
   "cell_type": "markdown",
   "metadata": {},
   "source": [
    "#### F1\n",
    "\n",
    "$$F_1 = \\frac{2 * Precision * Recall}{Precision + Recall}$$"
   ]
  },
  {
   "cell_type": "code",
   "execution_count": 17,
   "metadata": {},
   "outputs": [
    {
     "data": {
      "text/html": [
       "<div>\n",
       "<style scoped>\n",
       "    .dataframe tbody tr th:only-of-type {\n",
       "        vertical-align: middle;\n",
       "    }\n",
       "\n",
       "    .dataframe tbody tr th {\n",
       "        vertical-align: top;\n",
       "    }\n",
       "\n",
       "    .dataframe thead th {\n",
       "        text-align: right;\n",
       "    }\n",
       "</style>\n",
       "<table border=\"1\" class=\"dataframe\">\n",
       "  <thead>\n",
       "    <tr style=\"text-align: right;\">\n",
       "      <th></th>\n",
       "      <th>Score</th>\n",
       "    </tr>\n",
       "  </thead>\n",
       "  <tbody>\n",
       "    <tr>\n",
       "      <th>ACCURACY_TRAIN</th>\n",
       "      <td>0.866487</td>\n",
       "    </tr>\n",
       "    <tr>\n",
       "      <th>ACCURACY_TEST</th>\n",
       "      <td>0.865229</td>\n",
       "    </tr>\n",
       "    <tr>\n",
       "      <th>PRECISION_TRAIN</th>\n",
       "      <td>0.680272</td>\n",
       "    </tr>\n",
       "    <tr>\n",
       "      <th>PRECISION_TEST</th>\n",
       "      <td>0.633333</td>\n",
       "    </tr>\n",
       "    <tr>\n",
       "      <th>RECALL_TRAIN</th>\n",
       "      <td>0.398406</td>\n",
       "    </tr>\n",
       "    <tr>\n",
       "      <th>RECALL_TEST</th>\n",
       "      <td>0.327586</td>\n",
       "    </tr>\n",
       "    <tr>\n",
       "      <th>F1_TRAIN</th>\n",
       "      <td>0.502513</td>\n",
       "    </tr>\n",
       "    <tr>\n",
       "      <th>F1_TEST</th>\n",
       "      <td>0.431818</td>\n",
       "    </tr>\n",
       "  </tbody>\n",
       "</table>\n",
       "</div>"
      ],
      "text/plain": [
       "                    Score\n",
       "ACCURACY_TRAIN   0.866487\n",
       "ACCURACY_TEST    0.865229\n",
       "PRECISION_TRAIN  0.680272\n",
       "PRECISION_TEST   0.633333\n",
       "RECALL_TRAIN     0.398406\n",
       "RECALL_TEST      0.327586\n",
       "F1_TRAIN         0.502513\n",
       "F1_TEST          0.431818"
      ]
     },
     "metadata": {},
     "output_type": "display_data"
    },
    {
     "name": "stdout",
     "output_type": "stream",
     "text": [
      "Matriz de Confusion de Entrenamiento\n",
      "[[1185   47]\n",
      " [ 151  100]]\n",
      "Matriz de Confusion de Evaluación\n",
      "[[302  11]\n",
      " [ 39  19]]\n"
     ]
    }
   ],
   "source": [
    "df_sgd_d = all_scores(y_train,y_test,y_train_pred,y_test_pred)\n",
    "display(df_sgd_d)\n",
    "\n",
    "print('Matriz de Confusion de Entrenamiento')\n",
    "print(confusion_matrix(y_train, y_train_pred))\n",
    "print('Matriz de Confusion de Evaluación')\n",
    "print(confusion_matrix(y_test, y_test_pred))"
   ]
  },
  {
   "cell_type": "markdown",
   "metadata": {},
   "source": [
    "### Ejercicio 2.2: Ajuste de Hiperparámetros\n",
    "\n",
    "Seleccionar valores para los hiperparámetros principales del SGDClassifier. Como mínimo, probar diferentes funciones de loss, tasas de entrenamiento y tasas de regularización.\n",
    "\n",
    "Para ello, usar grid-search y 5-fold cross-validation sobre el conjunto de entrenamiento para explorar muchas combinaciones posibles de valores.\n",
    "\n",
    "Reportar accuracy promedio y varianza para todas las configuraciones.\n",
    "\n",
    "Para la mejor configuración encontrada, evaluar sobre el conjunto de **entrenamiento** y sobre el conjunto de **evaluación**, reportando:\n",
    "- Accuracy\n",
    "- Precision\n",
    "- Recall\n",
    "- F1\n",
    "- matriz de confusión\n",
    "\n",
    "Documentación:\n",
    "- https://scikit-learn.org/stable/modules/grid_search.html\n",
    "- https://scikit-learn.org/stable/modules/generated/sklearn.model_selection.GridSearchCV.html"
   ]
  },
  {
   "cell_type": "code",
   "execution_count": 18,
   "metadata": {},
   "outputs": [],
   "source": [
    "#SGDClassifier??"
   ]
  },
  {
   "cell_type": "markdown",
   "metadata": {},
   "source": [
    "#### Definicion de Hiper Parametros"
   ]
  },
  {
   "cell_type": "code",
   "execution_count": 19,
   "metadata": {},
   "outputs": [],
   "source": [
    "# Definiciones de hiper parametros\n",
    "param_grid = {\n",
    "    'loss': [ # The loss function to be used. Defaults to 'hinge'\n",
    "        'hinge',        # SVM\n",
    "        'modified_huber', # Otra version de regresion logistica\n",
    "        'log',          # logistic regression\n",
    "        'squared_hinge'  # SVM cuadraticamente penalizado\n",
    "    ],\n",
    "    'eta0': [1e-16,1e-8,1e-4,1e-2], # The initial learning rate for the ‘constant’, ‘invscaling’ or ‘adaptive’ schedules. The default value is 0.0 as eta0 is not used by the default schedule ‘optimal’\n",
    "    'alpha': [1e-6,1e-5,1e-4,1e-3,1e-2], # Constant that multiplies the regularization term. Default = 1e-4\n",
    "    #'max_iter' : [1000,1500], # The maximum number of passes over the training data. Default = 1000\n",
    "    'early_stopping' : [False,True], # Whether to use early stopping to terminate training when validation score is not improving. Default = False    \n",
    "    'learning_rate': [ # The learning rate schedule. Defaults to 'optimal'\n",
    "        'constant',\n",
    "        'optimal',\n",
    "        'invscaling',\n",
    "        'adaptive'\n",
    "    ],\n",
    "    'random_state': [0,1,2,3,4] # Used for shuffling the data\n",
    "}"
   ]
  },
  {
   "cell_type": "markdown",
   "metadata": {},
   "source": [
    "#### Aplicacion de Hiper Parametros"
   ]
  },
  {
   "cell_type": "code",
   "execution_count": 20,
   "metadata": {},
   "outputs": [],
   "source": [
    "model = SGDClassifier()"
   ]
  },
  {
   "cell_type": "code",
   "execution_count": 21,
   "metadata": {},
   "outputs": [],
   "source": [
    "#cv = GridSearchCV(model, param_grid, scoring='accuracy', cv=5)\n",
    "cv = GridSearchCV(model, param_grid, scoring='precision', cv=5)"
   ]
  },
  {
   "cell_type": "markdown",
   "metadata": {},
   "source": [
    "#### Entrenar el Modelo"
   ]
  },
  {
   "cell_type": "code",
   "execution_count": 22,
   "metadata": {},
   "outputs": [
    {
     "data": {
      "text/plain": [
       "GridSearchCV(cv=5, estimator=SGDClassifier(),\n",
       "             param_grid={'alpha': [1e-06, 1e-05, 0.0001, 0.001, 0.01],\n",
       "                         'early_stopping': [False, True],\n",
       "                         'eta0': [1e-16, 1e-08, 0.0001, 0.01],\n",
       "                         'learning_rate': ['constant', 'optimal', 'invscaling',\n",
       "                                           'adaptive'],\n",
       "                         'loss': ['hinge', 'modified_huber', 'log',\n",
       "                                  'squared_hinge'],\n",
       "                         'random_state': [0, 1, 2, 3, 4]},\n",
       "             scoring='precision')"
      ]
     },
     "execution_count": 22,
     "metadata": {},
     "output_type": "execute_result"
    }
   ],
   "source": [
    "warnings.filterwarnings('ignore')\n",
    "cv.fit(X_train, y_train)"
   ]
  },
  {
   "cell_type": "markdown",
   "metadata": {},
   "source": [
    "#### Verificacion Resultados del Entrenamiento"
   ]
  },
  {
   "cell_type": "code",
   "execution_count": 23,
   "metadata": {},
   "outputs": [
    {
     "data": {
      "text/html": [
       "<div>\n",
       "<style scoped>\n",
       "    .dataframe tbody tr th:only-of-type {\n",
       "        vertical-align: middle;\n",
       "    }\n",
       "\n",
       "    .dataframe tbody tr th {\n",
       "        vertical-align: top;\n",
       "    }\n",
       "\n",
       "    .dataframe thead th {\n",
       "        text-align: right;\n",
       "    }\n",
       "</style>\n",
       "<table border=\"1\" class=\"dataframe\">\n",
       "  <thead>\n",
       "    <tr style=\"text-align: right;\">\n",
       "      <th></th>\n",
       "      <th>param_loss</th>\n",
       "      <th>param_alpha</th>\n",
       "      <th>param_learning_rate</th>\n",
       "      <th>param_random_state</th>\n",
       "      <th>mean_test_score</th>\n",
       "      <th>std_test_score</th>\n",
       "      <th>rank_test_score</th>\n",
       "    </tr>\n",
       "  </thead>\n",
       "  <tbody>\n",
       "    <tr>\n",
       "      <th>0</th>\n",
       "      <td>hinge</td>\n",
       "      <td>1e-06</td>\n",
       "      <td>constant</td>\n",
       "      <td>0</td>\n",
       "      <td>0.683015</td>\n",
       "      <td>0.098495</td>\n",
       "      <td>1958</td>\n",
       "    </tr>\n",
       "    <tr>\n",
       "      <th>1</th>\n",
       "      <td>hinge</td>\n",
       "      <td>1e-06</td>\n",
       "      <td>constant</td>\n",
       "      <td>1</td>\n",
       "      <td>0.683015</td>\n",
       "      <td>0.098495</td>\n",
       "      <td>1958</td>\n",
       "    </tr>\n",
       "    <tr>\n",
       "      <th>2</th>\n",
       "      <td>hinge</td>\n",
       "      <td>1e-06</td>\n",
       "      <td>constant</td>\n",
       "      <td>2</td>\n",
       "      <td>0.683015</td>\n",
       "      <td>0.098495</td>\n",
       "      <td>1958</td>\n",
       "    </tr>\n",
       "    <tr>\n",
       "      <th>3</th>\n",
       "      <td>hinge</td>\n",
       "      <td>1e-06</td>\n",
       "      <td>constant</td>\n",
       "      <td>3</td>\n",
       "      <td>0.683015</td>\n",
       "      <td>0.098495</td>\n",
       "      <td>1958</td>\n",
       "    </tr>\n",
       "    <tr>\n",
       "      <th>4</th>\n",
       "      <td>hinge</td>\n",
       "      <td>1e-06</td>\n",
       "      <td>constant</td>\n",
       "      <td>4</td>\n",
       "      <td>0.683015</td>\n",
       "      <td>0.098495</td>\n",
       "      <td>1958</td>\n",
       "    </tr>\n",
       "    <tr>\n",
       "      <th>...</th>\n",
       "      <td>...</td>\n",
       "      <td>...</td>\n",
       "      <td>...</td>\n",
       "      <td>...</td>\n",
       "      <td>...</td>\n",
       "      <td>...</td>\n",
       "      <td>...</td>\n",
       "    </tr>\n",
       "    <tr>\n",
       "      <th>3195</th>\n",
       "      <td>squared_hinge</td>\n",
       "      <td>0.01</td>\n",
       "      <td>adaptive</td>\n",
       "      <td>0</td>\n",
       "      <td>0.838817</td>\n",
       "      <td>0.050141</td>\n",
       "      <td>194</td>\n",
       "    </tr>\n",
       "    <tr>\n",
       "      <th>3196</th>\n",
       "      <td>squared_hinge</td>\n",
       "      <td>0.01</td>\n",
       "      <td>adaptive</td>\n",
       "      <td>1</td>\n",
       "      <td>0.816349</td>\n",
       "      <td>0.076809</td>\n",
       "      <td>359</td>\n",
       "    </tr>\n",
       "    <tr>\n",
       "      <th>3197</th>\n",
       "      <td>squared_hinge</td>\n",
       "      <td>0.01</td>\n",
       "      <td>adaptive</td>\n",
       "      <td>2</td>\n",
       "      <td>0.799113</td>\n",
       "      <td>0.076798</td>\n",
       "      <td>623</td>\n",
       "    </tr>\n",
       "    <tr>\n",
       "      <th>3198</th>\n",
       "      <td>squared_hinge</td>\n",
       "      <td>0.01</td>\n",
       "      <td>adaptive</td>\n",
       "      <td>3</td>\n",
       "      <td>0.815507</td>\n",
       "      <td>0.056200</td>\n",
       "      <td>361</td>\n",
       "    </tr>\n",
       "    <tr>\n",
       "      <th>3199</th>\n",
       "      <td>squared_hinge</td>\n",
       "      <td>0.01</td>\n",
       "      <td>adaptive</td>\n",
       "      <td>4</td>\n",
       "      <td>0.822379</td>\n",
       "      <td>0.066661</td>\n",
       "      <td>281</td>\n",
       "    </tr>\n",
       "  </tbody>\n",
       "</table>\n",
       "<p>3200 rows × 7 columns</p>\n",
       "</div>"
      ],
      "text/plain": [
       "         param_loss param_alpha param_learning_rate param_random_state  \\\n",
       "0             hinge       1e-06            constant                  0   \n",
       "1             hinge       1e-06            constant                  1   \n",
       "2             hinge       1e-06            constant                  2   \n",
       "3             hinge       1e-06            constant                  3   \n",
       "4             hinge       1e-06            constant                  4   \n",
       "...             ...         ...                 ...                ...   \n",
       "3195  squared_hinge        0.01            adaptive                  0   \n",
       "3196  squared_hinge        0.01            adaptive                  1   \n",
       "3197  squared_hinge        0.01            adaptive                  2   \n",
       "3198  squared_hinge        0.01            adaptive                  3   \n",
       "3199  squared_hinge        0.01            adaptive                  4   \n",
       "\n",
       "      mean_test_score  std_test_score  rank_test_score  \n",
       "0            0.683015        0.098495             1958  \n",
       "1            0.683015        0.098495             1958  \n",
       "2            0.683015        0.098495             1958  \n",
       "3            0.683015        0.098495             1958  \n",
       "4            0.683015        0.098495             1958  \n",
       "...               ...             ...              ...  \n",
       "3195         0.838817        0.050141              194  \n",
       "3196         0.816349        0.076809              359  \n",
       "3197         0.799113        0.076798              623  \n",
       "3198         0.815507        0.056200              361  \n",
       "3199         0.822379        0.066661              281  \n",
       "\n",
       "[3200 rows x 7 columns]"
      ]
     },
     "execution_count": 23,
     "metadata": {},
     "output_type": "execute_result"
    }
   ],
   "source": [
    "results = cv.cv_results_\n",
    "    \n",
    "df = pd.DataFrame(results)\n",
    "df_result = df[['param_loss', 'param_alpha', 'param_learning_rate', 'param_random_state', 'mean_test_score', 'std_test_score', 'rank_test_score']]\n",
    "df_result"
   ]
  },
  {
   "cell_type": "markdown",
   "metadata": {},
   "source": [
    "#### Seleccionar el Mejor Modelo"
   ]
  },
  {
   "cell_type": "code",
   "execution_count": 24,
   "metadata": {},
   "outputs": [
    {
     "data": {
      "text/html": [
       "<div>\n",
       "<style scoped>\n",
       "    .dataframe tbody tr th:only-of-type {\n",
       "        vertical-align: middle;\n",
       "    }\n",
       "\n",
       "    .dataframe tbody tr th {\n",
       "        vertical-align: top;\n",
       "    }\n",
       "\n",
       "    .dataframe thead th {\n",
       "        text-align: right;\n",
       "    }\n",
       "</style>\n",
       "<table border=\"1\" class=\"dataframe\">\n",
       "  <thead>\n",
       "    <tr style=\"text-align: right;\">\n",
       "      <th></th>\n",
       "      <th>param_loss</th>\n",
       "      <th>param_alpha</th>\n",
       "      <th>param_learning_rate</th>\n",
       "      <th>param_random_state</th>\n",
       "      <th>mean_test_score</th>\n",
       "      <th>std_test_score</th>\n",
       "      <th>rank_test_score</th>\n",
       "    </tr>\n",
       "  </thead>\n",
       "  <tbody>\n",
       "    <tr>\n",
       "      <th>3124</th>\n",
       "      <td>hinge</td>\n",
       "      <td>0.01</td>\n",
       "      <td>constant</td>\n",
       "      <td>4</td>\n",
       "      <td>0.917483</td>\n",
       "      <td>0.049131</td>\n",
       "      <td>1</td>\n",
       "    </tr>\n",
       "  </tbody>\n",
       "</table>\n",
       "</div>"
      ],
      "text/plain": [
       "     param_loss param_alpha param_learning_rate param_random_state  \\\n",
       "3124      hinge        0.01            constant                  4   \n",
       "\n",
       "      mean_test_score  std_test_score  rank_test_score  \n",
       "3124         0.917483        0.049131                1  "
      ]
     },
     "execution_count": 24,
     "metadata": {},
     "output_type": "execute_result"
    }
   ],
   "source": [
    "# Seleccionar el modelo con mean_test_score mas alto y menor varianza\n",
    "df_bm = df_result[df_result['rank_test_score'] == 1]\n",
    "df_bm"
   ]
  },
  {
   "cell_type": "code",
   "execution_count": 25,
   "metadata": {},
   "outputs": [
    {
     "name": "stdout",
     "output_type": "stream",
     "text": [
      "Mejor Modelo\n",
      " SGDClassifier(alpha=0.01, early_stopping=True, eta0=0.01,\n",
      "              learning_rate='constant', random_state=4)\n",
      "Mejores Parametros\n",
      " {'alpha': 0.01, 'early_stopping': True, 'eta0': 0.01, 'learning_rate': 'constant', 'loss': 'hinge', 'random_state': 4}\n"
     ]
    }
   ],
   "source": [
    "# Mejor modelo\n",
    "\n",
    "best_model = cv.best_estimator_\n",
    "bestpar = cv.best_params_\n",
    "\n",
    "print('Mejor Modelo\\n', best_model)\n",
    "print('Mejores Parametros\\n', bestpar)"
   ]
  },
  {
   "cell_type": "markdown",
   "metadata": {},
   "source": [
    "#### Predecir con el Modelo Seleccionado"
   ]
  },
  {
   "cell_type": "code",
   "execution_count": 26,
   "metadata": {},
   "outputs": [],
   "source": [
    "y_train_pred_bestpar = best_model.predict(X_train)\n",
    "y_test_pred_bestpar = best_model.predict(X_test)"
   ]
  },
  {
   "cell_type": "markdown",
   "metadata": {},
   "source": [
    "#### Calcular Metricas para Dataset de Entrenamiento y Test"
   ]
  },
  {
   "cell_type": "code",
   "execution_count": 27,
   "metadata": {},
   "outputs": [
    {
     "data": {
      "text/html": [
       "<div>\n",
       "<style scoped>\n",
       "    .dataframe tbody tr th:only-of-type {\n",
       "        vertical-align: middle;\n",
       "    }\n",
       "\n",
       "    .dataframe tbody tr th {\n",
       "        vertical-align: top;\n",
       "    }\n",
       "\n",
       "    .dataframe thead th {\n",
       "        text-align: right;\n",
       "    }\n",
       "</style>\n",
       "<table border=\"1\" class=\"dataframe\">\n",
       "  <thead>\n",
       "    <tr style=\"text-align: right;\">\n",
       "      <th></th>\n",
       "      <th>ScoreBestPar</th>\n",
       "      <th>ScoreDefault</th>\n",
       "    </tr>\n",
       "  </thead>\n",
       "  <tbody>\n",
       "    <tr>\n",
       "      <th>ACCURACY_TRAIN</th>\n",
       "      <td>0.871207</td>\n",
       "      <td>0.866487</td>\n",
       "    </tr>\n",
       "    <tr>\n",
       "      <th>ACCURACY_TEST</th>\n",
       "      <td>0.881402</td>\n",
       "      <td>0.865229</td>\n",
       "    </tr>\n",
       "    <tr>\n",
       "      <th>PRECISION_TRAIN</th>\n",
       "      <td>0.884615</td>\n",
       "      <td>0.680272</td>\n",
       "    </tr>\n",
       "    <tr>\n",
       "      <th>PRECISION_TEST</th>\n",
       "      <td>0.888889</td>\n",
       "      <td>0.633333</td>\n",
       "    </tr>\n",
       "    <tr>\n",
       "      <th>RECALL_TRAIN</th>\n",
       "      <td>0.274900</td>\n",
       "      <td>0.398406</td>\n",
       "    </tr>\n",
       "    <tr>\n",
       "      <th>RECALL_TEST</th>\n",
       "      <td>0.275862</td>\n",
       "      <td>0.327586</td>\n",
       "    </tr>\n",
       "    <tr>\n",
       "      <th>F1_TRAIN</th>\n",
       "      <td>0.419453</td>\n",
       "      <td>0.502513</td>\n",
       "    </tr>\n",
       "    <tr>\n",
       "      <th>F1_TEST</th>\n",
       "      <td>0.421053</td>\n",
       "      <td>0.431818</td>\n",
       "    </tr>\n",
       "  </tbody>\n",
       "</table>\n",
       "</div>"
      ],
      "text/plain": [
       "                 ScoreBestPar  ScoreDefault\n",
       "ACCURACY_TRAIN       0.871207      0.866487\n",
       "ACCURACY_TEST        0.881402      0.865229\n",
       "PRECISION_TRAIN      0.884615      0.680272\n",
       "PRECISION_TEST       0.888889      0.633333\n",
       "RECALL_TRAIN         0.274900      0.398406\n",
       "RECALL_TEST          0.275862      0.327586\n",
       "F1_TRAIN             0.419453      0.502513\n",
       "F1_TEST              0.421053      0.431818"
      ]
     },
     "metadata": {},
     "output_type": "display_data"
    },
    {
     "name": "stdout",
     "output_type": "stream",
     "text": [
      "Matriz de Confusion de Entrenamiento con par. óptimos\n",
      "[[1223    9]\n",
      " [ 182   69]]\n",
      "Matriz de Confusion de Evaluación con par. óptimos\n",
      "[[311   2]\n",
      " [ 42  16]]\n"
     ]
    }
   ],
   "source": [
    "df_sgd_bm = all_scores_vs(y_train,y_test,y_train_pred,y_test_pred,y_train_pred_bestpar,y_test_pred_bestpar)\n",
    "display(df_sgd_bm)\n",
    "\n",
    "print('Matriz de Confusion de Entrenamiento con par. óptimos')\n",
    "print(confusion_matrix(y_train, y_train_pred_bestpar))\n",
    "print('Matriz de Confusion de Evaluación con par. óptimos')\n",
    "print(confusion_matrix(y_test, y_test_pred_bestpar))"
   ]
  },
  {
   "cell_type": "markdown",
   "metadata": {},
   "source": [
    "## Ejercicio 3: Árboles de Decisión\n",
    "\n",
    "En este ejercicio se entrenarán árboles de decisión para predecir la variable objetivo.\n",
    "\n",
    "Para ello, deberán utilizar la clase DecisionTreeClassifier de scikit-learn.\n",
    "\n",
    "Documentación:\n",
    "- https://scikit-learn.org/stable/modules/tree.html\n",
    "  - https://scikit-learn.org/stable/modules/tree.html#tips-on-practical-use\n",
    "- https://scikit-learn.org/stable/modules/generated/sklearn.tree.DecisionTreeClassifier.html\n",
    "- https://scikit-learn.org/stable/auto_examples/tree/plot_unveil_tree_structure.html"
   ]
  },
  {
   "cell_type": "code",
   "execution_count": 28,
   "metadata": {},
   "outputs": [],
   "source": [
    "#DecisionTreeClassifier??"
   ]
  },
  {
   "cell_type": "markdown",
   "metadata": {},
   "source": [
    "### Ejercicio 3.1: DecisionTreeClassifier con hiperparámetros por defecto\n",
    "\n",
    "Entrenar y evaluar el clasificador DecisionTreeClassifier usando los valores por omisión de scikit-learn para todos los parámetros. Únicamente **fijar la semilla aleatoria** para hacer repetible el experimento.\n",
    "\n",
    "Evaluar sobre el conjunto de **entrenamiento** y sobre el conjunto de **evaluación**, reportando:\n",
    "- Accuracy\n",
    "- Precision\n",
    "- Recall\n",
    "- F1\n",
    "- matriz de confusión\n"
   ]
  },
  {
   "cell_type": "code",
   "execution_count": 29,
   "metadata": {},
   "outputs": [],
   "source": [
    "model_dt = DecisionTreeClassifier(random_state=ranstate)\n",
    "\n",
    "X_train = X_train_o\n",
    "X_test = X_test_o\n",
    "\n",
    "model_dt.fit(X_train, y_train)\n",
    "y_train_pred = model_dt.predict(X_train)\n",
    "y_test_pred = model_dt.predict(X_test)"
   ]
  },
  {
   "cell_type": "markdown",
   "metadata": {},
   "source": [
    "#### Metricas con el Modelo por Defecto"
   ]
  },
  {
   "cell_type": "code",
   "execution_count": 31,
   "metadata": {},
   "outputs": [
    {
     "data": {
      "text/html": [
       "<div>\n",
       "<style scoped>\n",
       "    .dataframe tbody tr th:only-of-type {\n",
       "        vertical-align: middle;\n",
       "    }\n",
       "\n",
       "    .dataframe tbody tr th {\n",
       "        vertical-align: top;\n",
       "    }\n",
       "\n",
       "    .dataframe thead th {\n",
       "        text-align: right;\n",
       "    }\n",
       "</style>\n",
       "<table border=\"1\" class=\"dataframe\">\n",
       "  <thead>\n",
       "    <tr style=\"text-align: right;\">\n",
       "      <th></th>\n",
       "      <th>Score</th>\n",
       "    </tr>\n",
       "  </thead>\n",
       "  <tbody>\n",
       "    <tr>\n",
       "      <th>ACCURACY_TRAIN</th>\n",
       "      <td>1.000000</td>\n",
       "    </tr>\n",
       "    <tr>\n",
       "      <th>ACCURACY_TEST</th>\n",
       "      <td>0.889488</td>\n",
       "    </tr>\n",
       "    <tr>\n",
       "      <th>PRECISION_TRAIN</th>\n",
       "      <td>1.000000</td>\n",
       "    </tr>\n",
       "    <tr>\n",
       "      <th>PRECISION_TEST</th>\n",
       "      <td>0.666667</td>\n",
       "    </tr>\n",
       "    <tr>\n",
       "      <th>RECALL_TRAIN</th>\n",
       "      <td>1.000000</td>\n",
       "    </tr>\n",
       "    <tr>\n",
       "      <th>RECALL_TEST</th>\n",
       "      <td>0.586207</td>\n",
       "    </tr>\n",
       "    <tr>\n",
       "      <th>F1_TRAIN</th>\n",
       "      <td>1.000000</td>\n",
       "    </tr>\n",
       "    <tr>\n",
       "      <th>F1_TEST</th>\n",
       "      <td>0.623853</td>\n",
       "    </tr>\n",
       "  </tbody>\n",
       "</table>\n",
       "</div>"
      ],
      "text/plain": [
       "                    Score\n",
       "ACCURACY_TRAIN   1.000000\n",
       "ACCURACY_TEST    0.889488\n",
       "PRECISION_TRAIN  1.000000\n",
       "PRECISION_TEST   0.666667\n",
       "RECALL_TRAIN     1.000000\n",
       "RECALL_TEST      0.586207\n",
       "F1_TRAIN         1.000000\n",
       "F1_TEST          0.623853"
      ]
     },
     "metadata": {},
     "output_type": "display_data"
    },
    {
     "name": "stdout",
     "output_type": "stream",
     "text": [
      "Matriz de Confusion de Entrenamiento\n",
      "[[1232    0]\n",
      " [   0  251]]\n",
      "Matriz de Confusion de Evaluación\n",
      "[[296  17]\n",
      " [ 24  34]]\n"
     ]
    }
   ],
   "source": [
    "df_dt_d = all_scores(y_train,y_test,y_train_pred,y_test_pred)\n",
    "display(df_dt_d)\n",
    "\n",
    "print('Matriz de Confusion de Entrenamiento')\n",
    "print(confusion_matrix(y_train, y_train_pred))\n",
    "print('Matriz de Confusion de Evaluación')\n",
    "print(confusion_matrix(y_test, y_test_pred))"
   ]
  },
  {
   "cell_type": "markdown",
   "metadata": {},
   "source": [
    "### Ejercicio 3.2: Ajuste de Hiperparámetros\n",
    "\n",
    "Seleccionar valores para los hiperparámetros principales del DecisionTreeClassifier. Como mínimo, probar diferentes criterios de partición (criterion), profundidad máxima del árbol (max_depth), y cantidad mínima de samples por hoja (min_samples_leaf).\n",
    "\n",
    "Para ello, usar grid-search y 5-fold cross-validation sobre el conjunto de entrenamiento para explorar muchas combinaciones posibles de valores.\n",
    "\n",
    "Reportar accuracy promedio y varianza para todas las configuraciones.\n",
    "\n",
    "Para la mejor configuración encontrada, evaluar sobre el conjunto de **entrenamiento** y sobre el conjunto de **evaluación**, reportando:\n",
    "- Accuracy\n",
    "- Precision\n",
    "- Recall\n",
    "- F1\n",
    "- matriz de confusión\n",
    "\n",
    "\n",
    "Documentación:\n",
    "- https://scikit-learn.org/stable/modules/grid_search.html\n",
    "- https://scikit-learn.org/stable/modules/generated/sklearn.model_selection.GridSearchCV.html"
   ]
  },
  {
   "cell_type": "markdown",
   "metadata": {},
   "source": [
    "#### Definicion de Hiper Parametros"
   ]
  },
  {
   "cell_type": "code",
   "execution_count": 32,
   "metadata": {},
   "outputs": [],
   "source": [
    "# Definiciones de hiper parametros\n",
    "\n",
    "param_grid_dt = {\n",
    "     'criterion': ['gini', 'entropy'], # default=\"gini\" The function to measure the quality of a split\n",
    "     'max_depth': list(range(1,15)), # default=None The maximum depth of the tree\n",
    "     'min_samples_leaf': list(range(1,15)), # default=1 The minimum number of samples required to be at a leaf node\n",
    "     'max_features' : [None,'auto','sqrt','log2',0.5], # default=None The number of features to consider when looking for the best split\n",
    "     'random_state':  [0,1,2,3,4]   \n",
    "}"
   ]
  },
  {
   "cell_type": "markdown",
   "metadata": {},
   "source": [
    "#### Aplicacion de Hiper Parametros"
   ]
  },
  {
   "cell_type": "code",
   "execution_count": 33,
   "metadata": {},
   "outputs": [],
   "source": [
    "model_dt = DecisionTreeClassifier()\n",
    "cv_dt = GridSearchCV(model_dt, param_grid_dt, scoring='accuracy', cv=5)\n",
    "#cv_dt = GridSearchCV(model_dt, param_grid_dt, scoring='precision', cv=5)"
   ]
  },
  {
   "cell_type": "markdown",
   "metadata": {},
   "source": [
    "#### Entrenar el Modelo"
   ]
  },
  {
   "cell_type": "code",
   "execution_count": 34,
   "metadata": {},
   "outputs": [
    {
     "data": {
      "text/plain": [
       "GridSearchCV(cv=5, estimator=DecisionTreeClassifier(),\n",
       "             param_grid={'criterion': ['gini', 'entropy'],\n",
       "                         'max_depth': [1, 2, 3, 4, 5, 6, 7, 8, 9, 10, 11, 12,\n",
       "                                       13, 14],\n",
       "                         'max_features': [None, 'auto', 'sqrt', 'log2', 0.5],\n",
       "                         'min_samples_leaf': [1, 2, 3, 4, 5, 6, 7, 8, 9, 10, 11,\n",
       "                                              12, 13, 14],\n",
       "                         'random_state': [0, 1, 2, 3, 4]},\n",
       "             scoring='accuracy')"
      ]
     },
     "execution_count": 34,
     "metadata": {},
     "output_type": "execute_result"
    }
   ],
   "source": [
    "warnings.filterwarnings('ignore')\n",
    "cv_dt.fit(X_train, y_train)"
   ]
  },
  {
   "cell_type": "markdown",
   "metadata": {},
   "source": [
    "#### Verificar resultados de Entrenamiento"
   ]
  },
  {
   "cell_type": "code",
   "execution_count": 35,
   "metadata": {},
   "outputs": [
    {
     "data": {
      "text/html": [
       "<div>\n",
       "<style scoped>\n",
       "    .dataframe tbody tr th:only-of-type {\n",
       "        vertical-align: middle;\n",
       "    }\n",
       "\n",
       "    .dataframe tbody tr th {\n",
       "        vertical-align: top;\n",
       "    }\n",
       "\n",
       "    .dataframe thead th {\n",
       "        text-align: right;\n",
       "    }\n",
       "</style>\n",
       "<table border=\"1\" class=\"dataframe\">\n",
       "  <thead>\n",
       "    <tr style=\"text-align: right;\">\n",
       "      <th></th>\n",
       "      <th>param_criterion</th>\n",
       "      <th>param_max_depth</th>\n",
       "      <th>param_min_samples_leaf</th>\n",
       "      <th>param_random_state</th>\n",
       "      <th>mean_test_score</th>\n",
       "      <th>std_test_score</th>\n",
       "      <th>rank_test_score</th>\n",
       "    </tr>\n",
       "  </thead>\n",
       "  <tbody>\n",
       "    <tr>\n",
       "      <th>0</th>\n",
       "      <td>gini</td>\n",
       "      <td>1</td>\n",
       "      <td>1</td>\n",
       "      <td>0</td>\n",
       "      <td>0.869194</td>\n",
       "      <td>0.009254</td>\n",
       "      <td>5209</td>\n",
       "    </tr>\n",
       "    <tr>\n",
       "      <th>1</th>\n",
       "      <td>gini</td>\n",
       "      <td>1</td>\n",
       "      <td>1</td>\n",
       "      <td>1</td>\n",
       "      <td>0.869194</td>\n",
       "      <td>0.009254</td>\n",
       "      <td>5209</td>\n",
       "    </tr>\n",
       "    <tr>\n",
       "      <th>2</th>\n",
       "      <td>gini</td>\n",
       "      <td>1</td>\n",
       "      <td>1</td>\n",
       "      <td>2</td>\n",
       "      <td>0.869194</td>\n",
       "      <td>0.009254</td>\n",
       "      <td>5209</td>\n",
       "    </tr>\n",
       "    <tr>\n",
       "      <th>3</th>\n",
       "      <td>gini</td>\n",
       "      <td>1</td>\n",
       "      <td>1</td>\n",
       "      <td>3</td>\n",
       "      <td>0.869194</td>\n",
       "      <td>0.009254</td>\n",
       "      <td>5209</td>\n",
       "    </tr>\n",
       "    <tr>\n",
       "      <th>4</th>\n",
       "      <td>gini</td>\n",
       "      <td>1</td>\n",
       "      <td>1</td>\n",
       "      <td>4</td>\n",
       "      <td>0.869194</td>\n",
       "      <td>0.009254</td>\n",
       "      <td>5209</td>\n",
       "    </tr>\n",
       "    <tr>\n",
       "      <th>...</th>\n",
       "      <td>...</td>\n",
       "      <td>...</td>\n",
       "      <td>...</td>\n",
       "      <td>...</td>\n",
       "      <td>...</td>\n",
       "      <td>...</td>\n",
       "      <td>...</td>\n",
       "    </tr>\n",
       "    <tr>\n",
       "      <th>9795</th>\n",
       "      <td>entropy</td>\n",
       "      <td>14</td>\n",
       "      <td>14</td>\n",
       "      <td>0</td>\n",
       "      <td>0.865825</td>\n",
       "      <td>0.011822</td>\n",
       "      <td>7078</td>\n",
       "    </tr>\n",
       "    <tr>\n",
       "      <th>9796</th>\n",
       "      <td>entropy</td>\n",
       "      <td>14</td>\n",
       "      <td>14</td>\n",
       "      <td>1</td>\n",
       "      <td>0.857737</td>\n",
       "      <td>0.014204</td>\n",
       "      <td>8605</td>\n",
       "    </tr>\n",
       "    <tr>\n",
       "      <th>9797</th>\n",
       "      <td>entropy</td>\n",
       "      <td>14</td>\n",
       "      <td>14</td>\n",
       "      <td>2</td>\n",
       "      <td>0.865829</td>\n",
       "      <td>0.022628</td>\n",
       "      <td>7063</td>\n",
       "    </tr>\n",
       "    <tr>\n",
       "      <th>9798</th>\n",
       "      <td>entropy</td>\n",
       "      <td>14</td>\n",
       "      <td>14</td>\n",
       "      <td>3</td>\n",
       "      <td>0.875940</td>\n",
       "      <td>0.012575</td>\n",
       "      <td>1886</td>\n",
       "    </tr>\n",
       "    <tr>\n",
       "      <th>9799</th>\n",
       "      <td>entropy</td>\n",
       "      <td>14</td>\n",
       "      <td>14</td>\n",
       "      <td>4</td>\n",
       "      <td>0.858408</td>\n",
       "      <td>0.020375</td>\n",
       "      <td>8550</td>\n",
       "    </tr>\n",
       "  </tbody>\n",
       "</table>\n",
       "<p>9800 rows × 7 columns</p>\n",
       "</div>"
      ],
      "text/plain": [
       "     param_criterion param_max_depth param_min_samples_leaf  \\\n",
       "0               gini               1                      1   \n",
       "1               gini               1                      1   \n",
       "2               gini               1                      1   \n",
       "3               gini               1                      1   \n",
       "4               gini               1                      1   \n",
       "...              ...             ...                    ...   \n",
       "9795         entropy              14                     14   \n",
       "9796         entropy              14                     14   \n",
       "9797         entropy              14                     14   \n",
       "9798         entropy              14                     14   \n",
       "9799         entropy              14                     14   \n",
       "\n",
       "     param_random_state  mean_test_score  std_test_score  rank_test_score  \n",
       "0                     0         0.869194        0.009254             5209  \n",
       "1                     1         0.869194        0.009254             5209  \n",
       "2                     2         0.869194        0.009254             5209  \n",
       "3                     3         0.869194        0.009254             5209  \n",
       "4                     4         0.869194        0.009254             5209  \n",
       "...                 ...              ...             ...              ...  \n",
       "9795                  0         0.865825        0.011822             7078  \n",
       "9796                  1         0.857737        0.014204             8605  \n",
       "9797                  2         0.865829        0.022628             7063  \n",
       "9798                  3         0.875940        0.012575             1886  \n",
       "9799                  4         0.858408        0.020375             8550  \n",
       "\n",
       "[9800 rows x 7 columns]"
      ]
     },
     "execution_count": 35,
     "metadata": {},
     "output_type": "execute_result"
    }
   ],
   "source": [
    "results = cv_dt.cv_results_\n",
    "    \n",
    "df = pd.DataFrame(results)\n",
    "df_result = df[['param_criterion', 'param_max_depth', 'param_min_samples_leaf', 'param_random_state', 'mean_test_score', 'std_test_score', 'rank_test_score']]\n",
    "df_result"
   ]
  },
  {
   "cell_type": "markdown",
   "metadata": {},
   "source": [
    "#### Seleccionar el mejor Modelo"
   ]
  },
  {
   "cell_type": "code",
   "execution_count": 36,
   "metadata": {},
   "outputs": [
    {
     "data": {
      "text/html": [
       "<div>\n",
       "<style scoped>\n",
       "    .dataframe tbody tr th:only-of-type {\n",
       "        vertical-align: middle;\n",
       "    }\n",
       "\n",
       "    .dataframe tbody tr th {\n",
       "        vertical-align: top;\n",
       "    }\n",
       "\n",
       "    .dataframe thead th {\n",
       "        text-align: right;\n",
       "    }\n",
       "</style>\n",
       "<table border=\"1\" class=\"dataframe\">\n",
       "  <thead>\n",
       "    <tr style=\"text-align: right;\">\n",
       "      <th></th>\n",
       "      <th>param_criterion</th>\n",
       "      <th>param_max_depth</th>\n",
       "      <th>param_min_samples_leaf</th>\n",
       "      <th>param_random_state</th>\n",
       "      <th>mean_test_score</th>\n",
       "      <th>std_test_score</th>\n",
       "      <th>rank_test_score</th>\n",
       "    </tr>\n",
       "  </thead>\n",
       "  <tbody>\n",
       "    <tr>\n",
       "      <th>4277</th>\n",
       "      <td>gini</td>\n",
       "      <td>13</td>\n",
       "      <td>2</td>\n",
       "      <td>2</td>\n",
       "      <td>0.894149</td>\n",
       "      <td>0.022948</td>\n",
       "      <td>1</td>\n",
       "    </tr>\n",
       "    <tr>\n",
       "      <th>4347</th>\n",
       "      <td>gini</td>\n",
       "      <td>13</td>\n",
       "      <td>2</td>\n",
       "      <td>2</td>\n",
       "      <td>0.894149</td>\n",
       "      <td>0.022948</td>\n",
       "      <td>1</td>\n",
       "    </tr>\n",
       "    <tr>\n",
       "      <th>4417</th>\n",
       "      <td>gini</td>\n",
       "      <td>13</td>\n",
       "      <td>2</td>\n",
       "      <td>2</td>\n",
       "      <td>0.894149</td>\n",
       "      <td>0.022948</td>\n",
       "      <td>1</td>\n",
       "    </tr>\n",
       "  </tbody>\n",
       "</table>\n",
       "</div>"
      ],
      "text/plain": [
       "     param_criterion param_max_depth param_min_samples_leaf  \\\n",
       "4277            gini              13                      2   \n",
       "4347            gini              13                      2   \n",
       "4417            gini              13                      2   \n",
       "\n",
       "     param_random_state  mean_test_score  std_test_score  rank_test_score  \n",
       "4277                  2         0.894149        0.022948                1  \n",
       "4347                  2         0.894149        0.022948                1  \n",
       "4417                  2         0.894149        0.022948                1  "
      ]
     },
     "execution_count": 36,
     "metadata": {},
     "output_type": "execute_result"
    }
   ],
   "source": [
    "# Seleccionar el modelo con mean_test_score mas alto y menor varianza\n",
    "df_bm_dt = df_result[df_result['rank_test_score'] == 1]\n",
    "df_bm_dt"
   ]
  },
  {
   "cell_type": "code",
   "execution_count": 37,
   "metadata": {},
   "outputs": [
    {
     "name": "stdout",
     "output_type": "stream",
     "text": [
      "Mejor Modelo\n",
      " DecisionTreeClassifier(max_depth=13, max_features='auto', min_samples_leaf=2,\n",
      "                       random_state=2)\n",
      "Mejores Parametros\n",
      " {'criterion': 'gini', 'max_depth': 13, 'max_features': 'auto', 'min_samples_leaf': 2, 'random_state': 2}\n"
     ]
    }
   ],
   "source": [
    "# Mejor modelo\n",
    "\n",
    "best_model_dt = cv_dt.best_estimator_\n",
    "bestpar_dt = cv_dt.best_params_\n",
    "\n",
    "print('Mejor Modelo\\n', best_model_dt)\n",
    "print('Mejores Parametros\\n', bestpar_dt)"
   ]
  },
  {
   "cell_type": "markdown",
   "metadata": {},
   "source": [
    "#### Predecir con el Modelo Seleccionado"
   ]
  },
  {
   "cell_type": "code",
   "execution_count": 38,
   "metadata": {},
   "outputs": [],
   "source": [
    "y_train_pred_bestpar = best_model_dt.predict(X_train)\n",
    "y_test_pred_bestpar = best_model_dt.predict(X_test)"
   ]
  },
  {
   "cell_type": "markdown",
   "metadata": {},
   "source": [
    "#### Calcular Metricas para Dataset de Entrenamiento y Test"
   ]
  },
  {
   "cell_type": "code",
   "execution_count": 40,
   "metadata": {},
   "outputs": [
    {
     "data": {
      "text/html": [
       "<div>\n",
       "<style scoped>\n",
       "    .dataframe tbody tr th:only-of-type {\n",
       "        vertical-align: middle;\n",
       "    }\n",
       "\n",
       "    .dataframe tbody tr th {\n",
       "        vertical-align: top;\n",
       "    }\n",
       "\n",
       "    .dataframe thead th {\n",
       "        text-align: right;\n",
       "    }\n",
       "</style>\n",
       "<table border=\"1\" class=\"dataframe\">\n",
       "  <thead>\n",
       "    <tr style=\"text-align: right;\">\n",
       "      <th></th>\n",
       "      <th>ScoreBestPar</th>\n",
       "      <th>ScoreDefault</th>\n",
       "    </tr>\n",
       "  </thead>\n",
       "  <tbody>\n",
       "    <tr>\n",
       "      <th>ACCURACY_TRAIN</th>\n",
       "      <td>0.946055</td>\n",
       "      <td>1.000000</td>\n",
       "    </tr>\n",
       "    <tr>\n",
       "      <th>ACCURACY_TEST</th>\n",
       "      <td>0.911051</td>\n",
       "      <td>0.889488</td>\n",
       "    </tr>\n",
       "    <tr>\n",
       "      <th>PRECISION_TRAIN</th>\n",
       "      <td>0.977654</td>\n",
       "      <td>1.000000</td>\n",
       "    </tr>\n",
       "    <tr>\n",
       "      <th>PRECISION_TEST</th>\n",
       "      <td>0.790698</td>\n",
       "      <td>0.666667</td>\n",
       "    </tr>\n",
       "    <tr>\n",
       "      <th>RECALL_TRAIN</th>\n",
       "      <td>0.697211</td>\n",
       "      <td>1.000000</td>\n",
       "    </tr>\n",
       "    <tr>\n",
       "      <th>RECALL_TEST</th>\n",
       "      <td>0.586207</td>\n",
       "      <td>0.586207</td>\n",
       "    </tr>\n",
       "    <tr>\n",
       "      <th>F1_TRAIN</th>\n",
       "      <td>0.813953</td>\n",
       "      <td>1.000000</td>\n",
       "    </tr>\n",
       "    <tr>\n",
       "      <th>F1_TEST</th>\n",
       "      <td>0.673267</td>\n",
       "      <td>0.623853</td>\n",
       "    </tr>\n",
       "  </tbody>\n",
       "</table>\n",
       "</div>"
      ],
      "text/plain": [
       "                 ScoreBestPar  ScoreDefault\n",
       "ACCURACY_TRAIN       0.946055      1.000000\n",
       "ACCURACY_TEST        0.911051      0.889488\n",
       "PRECISION_TRAIN      0.977654      1.000000\n",
       "PRECISION_TEST       0.790698      0.666667\n",
       "RECALL_TRAIN         0.697211      1.000000\n",
       "RECALL_TEST          0.586207      0.586207\n",
       "F1_TRAIN             0.813953      1.000000\n",
       "F1_TEST              0.673267      0.623853"
      ]
     },
     "metadata": {},
     "output_type": "display_data"
    },
    {
     "name": "stdout",
     "output_type": "stream",
     "text": [
      "Matriz de Confusion de Entrenamiento con par. óptimos\n",
      "[[1228    4]\n",
      " [  76  175]]\n",
      "Matriz de Confusion de Evaluación con par. óptimos\n",
      "[[304   9]\n",
      " [ 24  34]]\n"
     ]
    }
   ],
   "source": [
    "df_dt_bm = all_scores_vs(y_train, y_test, y_train_pred, y_test_pred, y_train_pred_bestpar, y_test_pred_bestpar)\n",
    "display(df_dt_bm)\n",
    "\n",
    "print('Matriz de Confusion de Entrenamiento con par. óptimos')\n",
    "print(confusion_matrix(y_train, y_train_pred_bestpar))\n",
    "print('Matriz de Confusion de Evaluación con par. óptimos')\n",
    "print(confusion_matrix(y_test, y_test_pred_bestpar))"
   ]
  },
  {
   "cell_type": "markdown",
   "metadata": {},
   "source": [
    "### Ejercicio 3.3: Inspección del Modelo"
   ]
  },
  {
   "cell_type": "code",
   "execution_count": 41,
   "metadata": {},
   "outputs": [
    {
     "data": {
      "image/png": "[encoded data removed]",
      "text/plain": [
       "<Figure size 1440x720 with 1 Axes>"
      ]
     },
     "metadata": {
      "needs_background": "light"
     },
     "output_type": "display_data"
    }
   ],
   "source": [
    "from sklearn.tree import plot_tree\n",
    "\n",
    "plt.figure(figsize=(20,10))\n",
    "plot_tree(best_model_dt)\n",
    "plt.show()"
   ]
  },
  {
   "cell_type": "markdown",
   "metadata": {},
   "source": [
    "## Conclusiones"
   ]
  },
  {
   "cell_type": "code",
   "execution_count": 42,
   "metadata": {},
   "outputs": [
    {
     "name": "stdout",
     "output_type": "stream",
     "text": [
      "Tabla de scores:\n"
     ]
    },
    {
     "data": {
      "text/html": [
       "<div>\n",
       "<style scoped>\n",
       "    .dataframe tbody tr th:only-of-type {\n",
       "        vertical-align: middle;\n",
       "    }\n",
       "\n",
       "    .dataframe tbody tr th {\n",
       "        vertical-align: top;\n",
       "    }\n",
       "\n",
       "    .dataframe thead th {\n",
       "        text-align: right;\n",
       "    }\n",
       "</style>\n",
       "<table border=\"1\" class=\"dataframe\">\n",
       "  <thead>\n",
       "    <tr style=\"text-align: right;\">\n",
       "      <th></th>\n",
       "      <th>ScoreSGDBestParam</th>\n",
       "      <th>ScoreSGDDefault</th>\n",
       "      <th>SocreDTBestParam</th>\n",
       "      <th>ScoreDTDefault</th>\n",
       "    </tr>\n",
       "  </thead>\n",
       "  <tbody>\n",
       "    <tr>\n",
       "      <th>ACCURACY_TRAIN</th>\n",
       "      <td>0.871207</td>\n",
       "      <td>0.866487</td>\n",
       "      <td>0.946055</td>\n",
       "      <td>1.000000</td>\n",
       "    </tr>\n",
       "    <tr>\n",
       "      <th>ACCURACY_TEST</th>\n",
       "      <td>0.881402</td>\n",
       "      <td>0.865229</td>\n",
       "      <td>0.911051</td>\n",
       "      <td>0.889488</td>\n",
       "    </tr>\n",
       "    <tr>\n",
       "      <th>PRECISION_TRAIN</th>\n",
       "      <td>0.884615</td>\n",
       "      <td>0.680272</td>\n",
       "      <td>0.977654</td>\n",
       "      <td>1.000000</td>\n",
       "    </tr>\n",
       "    <tr>\n",
       "      <th>PRECISION_TEST</th>\n",
       "      <td>0.888889</td>\n",
       "      <td>0.633333</td>\n",
       "      <td>0.790698</td>\n",
       "      <td>0.666667</td>\n",
       "    </tr>\n",
       "    <tr>\n",
       "      <th>RECALL_TRAIN</th>\n",
       "      <td>0.274900</td>\n",
       "      <td>0.398406</td>\n",
       "      <td>0.697211</td>\n",
       "      <td>1.000000</td>\n",
       "    </tr>\n",
       "    <tr>\n",
       "      <th>RECALL_TEST</th>\n",
       "      <td>0.275862</td>\n",
       "      <td>0.327586</td>\n",
       "      <td>0.586207</td>\n",
       "      <td>0.586207</td>\n",
       "    </tr>\n",
       "    <tr>\n",
       "      <th>F1_TRAIN</th>\n",
       "      <td>0.419453</td>\n",
       "      <td>0.502513</td>\n",
       "      <td>0.813953</td>\n",
       "      <td>1.000000</td>\n",
       "    </tr>\n",
       "    <tr>\n",
       "      <th>F1_TEST</th>\n",
       "      <td>0.421053</td>\n",
       "      <td>0.431818</td>\n",
       "      <td>0.673267</td>\n",
       "      <td>0.623853</td>\n",
       "    </tr>\n",
       "  </tbody>\n",
       "</table>\n",
       "</div>"
      ],
      "text/plain": [
       "                 ScoreSGDBestParam  ScoreSGDDefault  SocreDTBestParam  \\\n",
       "ACCURACY_TRAIN            0.871207         0.866487          0.946055   \n",
       "ACCURACY_TEST             0.881402         0.865229          0.911051   \n",
       "PRECISION_TRAIN           0.884615         0.680272          0.977654   \n",
       "PRECISION_TEST            0.888889         0.633333          0.790698   \n",
       "RECALL_TRAIN              0.274900         0.398406          0.697211   \n",
       "RECALL_TEST               0.275862         0.327586          0.586207   \n",
       "F1_TRAIN                  0.419453         0.502513          0.813953   \n",
       "F1_TEST                   0.421053         0.431818          0.673267   \n",
       "\n",
       "                 ScoreDTDefault  \n",
       "ACCURACY_TRAIN         1.000000  \n",
       "ACCURACY_TEST          0.889488  \n",
       "PRECISION_TRAIN        1.000000  \n",
       "PRECISION_TEST         0.666667  \n",
       "RECALL_TRAIN           1.000000  \n",
       "RECALL_TEST            0.586207  \n",
       "F1_TRAIN               1.000000  \n",
       "F1_TEST                0.623853  "
      ]
     },
     "metadata": {},
     "output_type": "display_data"
    }
   ],
   "source": [
    "df = pd.concat([df_sgd_bm, df_dt_bm], axis=1)\n",
    "#print(df)\n",
    "df.columns = ['ScoreSGDBestParam', 'ScoreSGDDefault', 'SocreDTBestParam', 'ScoreDTDefault']\n",
    "# tabla comparando scores de SGD y DT con valores por omisión:\n",
    "print('Tabla de scores:')\n",
    "display(df)"
   ]
  },
  {
   "cell_type": "markdown",
   "metadata": {},
   "source": [
    "En la tabla anterior podemos notar que aplicar un modelo de tipo *Arbol de Decision* es más eficiente que un modelo de *De Clasificación por Gradiente*. Concentrándonos en este último vemos que los hiper parámetros seleccionados para dicho modelo nos dan una probabilidad de acierto del 94.6055% en el dataset de entrenamiento y del 91.1051% en el dataset de test. Si bien en la cantidad de positivos propuestos por el modelo que fueron correctos (Precisión) el porcentaje es de 97.7654% en el dataset de entramiento y 79.0698% en el dataset de test, es menor al resultado del modelo SGD las demás métricas son superiores.  Es decir, la cantidad de positivos correctos que fueron encontrados por el modelo (recall) y media armonica entre ambas metricas (F1).\n",
    "Dentro del mismo modelo se verifica que la optimización de hiper párametros presenta resultados más acertados que el uso de los hiper parámetros por defecto."
   ]
  },
  {
   "cell_type": "code",
   "execution_count": null,
   "metadata": {},
   "outputs": [],
   "source": []
  }
 ],
 "metadata": {
  "kernelspec": {
   "display_name": "Python 3",
   "language": "python",
   "name": "python3"
  },
  "language_info": {
   "codemirror_mode": {
    "name": "ipython",
    "version": 3
   },
   "file_extension": ".py",
   "mimetype": "text/x-python",
   "name": "python",
   "nbconvert_exporter": "python",
   "pygments_lexer": "ipython3",
   "version": "3.6.10"
  }
 },
 "nbformat": 4,
 "nbformat_minor": 4
}
